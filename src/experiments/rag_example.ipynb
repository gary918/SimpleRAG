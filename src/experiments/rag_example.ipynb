{
 "cells": [
  {
   "cell_type": "code",
   "execution_count": null,
   "metadata": {},
   "outputs": [
    {
     "data": {
      "text/plain": [
       "AIMessage(content='<think>\\nOkay, so I need to translate \"I love programming.\" into French. Let me think about how to approach this.\\n\\nFirst, \"I love\" is straightforward in French. The word for \"love\" is \"amour,\" and since it\\'s a statement, we use the present tense. So that would be \"J\\'adore.\"\\n\\nNext, \"programming\" needs to be translated accurately. I know that \"programming\" can mean both coding and programming as in computer science. In French, the term for programming or coding is usually \"programmer.\" But wait, sometimes people also use \"codage,\" which refers more specifically to coding. Hmm.\\n\\nSo, if someone just means they enjoy writing code, it might be better to say \"j\\'adore le programming\" because \"programmer\" directly translates to \"programming.\" However, if the context is about computer science or algorithms, then \"codage\" would be appropriate.\\n\\nSince the original sentence is pretty general—\"I love programming\"—it\\'s safer to use the more common term. So I\\'ll go with \"j\\'adore le programming.\"\\n\\nPutting it all together: \"J\\'adore le programming.\" That sounds natural and conveys the same sentiment in French.\\n</think>\\n\\nJe adore le programming.', additional_kwargs={}, response_metadata={'model': 'deepseek-r1', 'created_at': '2025-02-27T03:38:52.594707Z', 'done': True, 'done_reason': 'stop', 'total_duration': 40499776804, 'load_duration': 20060083, 'prompt_eval_count': 23, 'prompt_eval_duration': 151000000, 'eval_count': 260, 'eval_duration': 40326000000, 'message': Message(role='assistant', content='', images=None, tool_calls=None)}, id='run-a36e7579-7946-47a6-8aa8-39c4a60c2f2d-0', usage_metadata={'input_tokens': 23, 'output_tokens': 260, 'total_tokens': 283})"
      ]
     },
     "execution_count": 16,
     "metadata": {},
     "output_type": "execute_result"
    }
   ],
   "source": [
    "from langchain_ollama import ChatOllama\n",
    "\n",
    "llm = ChatOllama(\n",
    "    model=\"deepseek-r1\", # \"Phi3.5\", #  \n",
    "    temperature=0,\n",
    "    # other params...\n",
    ")\n",
    "\n",
    "from langchain_core.messages import AIMessage\n",
    "\n",
    "messages = [\n",
    "    (\n",
    "        \"system\",\n",
    "        \"You are a helpful assistant that translates English to French. Translate the user sentence.\",\n",
    "    ),\n",
    "    (\"human\", \"I love programming.\"),\n",
    "]\n",
    "\n",
    "message = \"who are you\"\n",
    "ai_msg = llm.invoke(messages)\n",
    "ai_msg"
   ]
  },
  {
   "cell_type": "code",
   "execution_count": 2,
   "metadata": {},
   "outputs": [
    {
     "name": "stdout",
     "output_type": "stream",
     "text": [
      "J'adore programmer.\n"
     ]
    }
   ],
   "source": [
    "print(ai_msg.content)"
   ]
  },
  {
   "cell_type": "code",
   "execution_count": 3,
   "metadata": {},
   "outputs": [
    {
     "data": {
      "text/plain": [
       "AIMessage(content='Ich liebe Programmierung.\\n\\n(Note: The translation is straightforward and maintains the original meaning of expressing affection for programming in German.)', additional_kwargs={}, response_metadata={'model': 'Phi3.5', 'created_at': '2024-12-27T09:09:40.426436Z', 'done': True, 'done_reason': 'stop', 'total_duration': 2866729620, 'load_duration': 13887321, 'prompt_eval_count': 31, 'prompt_eval_duration': 353000000, 'eval_count': 33, 'eval_duration': 2498000000, 'message': Message(role='assistant', content='', images=None, tool_calls=None)}, id='run-ca7d0372-2914-4b8a-821e-beebbd49450a-0', usage_metadata={'input_tokens': 31, 'output_tokens': 33, 'total_tokens': 64})"
      ]
     },
     "execution_count": 3,
     "metadata": {},
     "output_type": "execute_result"
    }
   ],
   "source": [
    "from langchain_core.prompts import ChatPromptTemplate\n",
    "\n",
    "prompt = ChatPromptTemplate.from_messages(\n",
    "    [\n",
    "        (\n",
    "            \"system\",\n",
    "            \"You are a helpful assistant that translates {input_language} to {output_language}.\",\n",
    "        ),\n",
    "        (\"human\", \"{input}\"),\n",
    "    ]\n",
    ")\n",
    "\n",
    "chain = prompt | llm\n",
    "chain.invoke(\n",
    "    {\n",
    "        \"input_language\": \"English\",\n",
    "        \"output_language\": \"German\",\n",
    "        \"input\": \"I love programming.\",\n",
    "    }\n",
    ")"
   ]
  }
 ],
 "metadata": {
  "kernelspec": {
   "display_name": ".venv",
   "language": "python",
   "name": "python3"
  },
  "language_info": {
   "codemirror_mode": {
    "name": "ipython",
    "version": 3
   },
   "file_extension": ".py",
   "mimetype": "text/x-python",
   "name": "python",
   "nbconvert_exporter": "python",
   "pygments_lexer": "ipython3",
   "version": "3.12.7"
  }
 },
 "nbformat": 4,
 "nbformat_minor": 2
}
